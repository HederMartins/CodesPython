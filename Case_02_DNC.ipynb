{
  "nbformat": 4,
  "nbformat_minor": 0,
  "metadata": {
    "colab": {
      "provenance": [],
      "authorship_tag": "ABX9TyOm0LfMz2Q0UsdCdA4df1uU",
      "include_colab_link": true
    },
    "kernelspec": {
      "name": "python3",
      "display_name": "Python 3"
    },
    "language_info": {
      "name": "python"
    }
  },
  "cells": [
    {
      "cell_type": "markdown",
      "metadata": {
        "id": "view-in-github",
        "colab_type": "text"
      },
      "source": [
        "<a href=\"https://colab.research.google.com/github/HederMartins/CodesPython/blob/main/Case_02_DNC.ipynb\" target=\"_parent\"><img src=\"https://colab.research.google.com/assets/colab-badge.svg\" alt=\"Open In Colab\"/></a>"
      ]
    },
    {
      "cell_type": "code",
      "execution_count": null,
      "metadata": {
        "id": "LxnEZl31nOWl"
      },
      "outputs": [],
      "source": [
        "lista = usuarios_feedback = [{'nome':'Peter','nota':9,'genero':'M','comentario':'bom demais e agil'}, \n",
        "                             {'nome':'Joao','nota':10,'genero':'M','comentario':'agil e eficiente'}, \n",
        "                             {'nome':'user_not_found','nota':0,'genero':'M','comentario':'Horrível'}, \n",
        "                             {'nome':'Marta','nota':10,'genero':'F','comentario':'muito agil bom demais'}, \n",
        "                             {'nome':'Beatriz','nota':10,'genero':'F','comentario':'rápido e eficaz'}, \n",
        "                             {'nome':'user_not_found','nota':2,'genero':'M','comentario':'ruim'}, \n",
        "                             {'nome':'Jéssica','nota':10,'genero':'F','comentario':'agil'}, \n",
        "                             {'nome':'José','nota':7,'genero':'M','comentario':'ok'}, \n",
        "                             {'nome':'Elias','nota':5,'genero':'M','comentario':'precisa melhorar'}, \n",
        "                             {'nome':'Miriã','nota':9,'genero':'F','comentario':'foi muito agil e rápido'}, \n",
        "                             {'nome':'Maria','nota':10,'genero':'F','comentario':'muito bom e agil'}]"
      ]
    },
    {
      "cell_type": "code",
      "source": [
        "print(lista[1]['comentario'])"
      ],
      "metadata": {
        "colab": {
          "base_uri": "https://localhost:8080/"
        },
        "id": "X1wQpvkgnaRs",
        "outputId": "cddf1a51-0f28-4c72-8f3f-443ee89ac288"
      },
      "execution_count": null,
      "outputs": [
        {
          "output_type": "stream",
          "name": "stdout",
          "text": [
            "agil e eficiente\n"
          ]
        }
      ]
    },
    {
      "cell_type": "markdown",
      "source": [
        "Frequencia de palavras nos comentarios"
      ],
      "metadata": {
        "id": "l8h_-eCpnt1b"
      }
    },
    {
      "cell_type": "code",
      "source": [
        "def conta_frequencia (x):\n",
        "  todas_palavras = []\n",
        "\n",
        "  for user in x:\n",
        "    todas_palavras.extend(user['comentario'].split())\n",
        "    uniqWords = sorted(set(todas_palavras))\n",
        "  for word in uniqWords:\n",
        "    print(todas_palavras.count(word), word)\n",
        "  \n",
        "conta_frequencia(usuarios_feedback) "
      ],
      "metadata": {
        "colab": {
          "base_uri": "https://localhost:8080/"
        },
        "id": "4RbrajYKntXH",
        "outputId": "3e1af7f4-234e-451f-a865-5dd13cfa21f5"
      },
      "execution_count": null,
      "outputs": [
        {
          "output_type": "stream",
          "name": "stdout",
          "text": [
            "1 Horrível\n",
            "6 agil\n",
            "3 bom\n",
            "2 demais\n",
            "5 e\n",
            "1 eficaz\n",
            "1 eficiente\n",
            "1 foi\n",
            "1 melhorar\n",
            "3 muito\n",
            "1 ok\n",
            "1 precisa\n",
            "1 ruim\n",
            "2 rápido\n"
          ]
        }
      ]
    },
    {
      "cell_type": "markdown",
      "source": [
        "Frequência de palavras, sem contar o 'e'"
      ],
      "metadata": {
        "id": "yynIoZuDqhzV"
      }
    },
    {
      "cell_type": "code",
      "source": [
        "def conta_frequencia (x):\n",
        "  todas_palavras = []\n",
        "\n",
        "  for user in x:\n",
        "    todas_palavras.extend(user['comentario'].split())\n",
        "    uniqWords = sorted(set(todas_palavras))\n",
        "  for word in uniqWords:\n",
        "    if word != 'e':\n",
        "      print(todas_palavras.count(word), word)\n",
        "  \n",
        "conta_frequencia(usuarios_feedback) "
      ],
      "metadata": {
        "colab": {
          "base_uri": "https://localhost:8080/"
        },
        "id": "fqYIQLYIowNK",
        "outputId": "d7bcd85e-eb54-4944-8501-71420b4325a0"
      },
      "execution_count": null,
      "outputs": [
        {
          "output_type": "stream",
          "name": "stdout",
          "text": [
            "1 Horrível\n",
            "6 agil\n",
            "3 bom\n",
            "2 demais\n",
            "1 eficaz\n",
            "1 eficiente\n",
            "1 foi\n",
            "1 melhorar\n",
            "3 muito\n",
            "1 ok\n",
            "1 precisa\n",
            "1 ruim\n",
            "2 rápido\n"
          ]
        }
      ]
    },
    {
      "cell_type": "markdown",
      "source": [
        "Média de notas do sexo masculino e sexo femino"
      ],
      "metadata": {
        "id": "FTu2LudGqcIt"
      }
    },
    {
      "cell_type": "code",
      "source": [
        "def notas (x):\n",
        "  m = []\n",
        "  f = []\n",
        "\n",
        "  for a in x:\n",
        "    if a['genero'] == 'M':\n",
        "      m.append(a['nota'])\n",
        "    elif a['genero'] == 'F':\n",
        "      f.append(a['nota'])\n",
        "  print('média masc = ',  sum(m)/len(m), 'média fem = ',  sum(f)/len(f))\n",
        "  return m,f\n",
        "\n",
        "masc, fem = notas(usuarios_feedback)\n",
        "print(masc, fem)"
      ],
      "metadata": {
        "colab": {
          "base_uri": "https://localhost:8080/"
        },
        "id": "zvxncBPqo4oh",
        "outputId": "9080e80e-6258-4840-da61-9fdf68b40d04"
      },
      "execution_count": null,
      "outputs": [
        {
          "output_type": "stream",
          "name": "stdout",
          "text": [
            "média masc =  5.5 média fem =  9.8\n",
            "[9, 10, 0, 2, 7, 5] [10, 10, 10, 9, 10]\n"
          ]
        }
      ]
    },
    {
      "cell_type": "markdown",
      "source": [
        "Número de usuarios nulos"
      ],
      "metadata": {
        "id": "jBJ63n9YqnAE"
      }
    },
    {
      "cell_type": "code",
      "source": [
        "user_null = []\n",
        "\n",
        "def user_nulo(x):\n",
        "  for a in x:\n",
        "    if a['nome'] == 'user_not_found':\n",
        "      print(a)\n",
        "      user_null.append(a)\n",
        "print(len(user_null))\n",
        "\n",
        "user_nulo(usuarios_feedback)"
      ],
      "metadata": {
        "colab": {
          "base_uri": "https://localhost:8080/"
        },
        "id": "ZssSoNd8qpmE",
        "outputId": "ed0cafa6-dd7c-4fac-92de-6222f090c072"
      },
      "execution_count": null,
      "outputs": [
        {
          "output_type": "stream",
          "name": "stdout",
          "text": [
            "0\n",
            "{'nome': 'user_not_found', 'nota': 0, 'genero': 'M', 'comentario': 'Horrível'}\n",
            "{'nome': 'user_not_found', 'nota': 2, 'genero': 'M', 'comentario': 'ruim'}\n"
          ]
        }
      ]
    }
  ]
}